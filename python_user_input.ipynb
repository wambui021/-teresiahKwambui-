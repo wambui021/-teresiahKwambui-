{
  "nbformat": 4,
  "nbformat_minor": 0,
  "metadata": {
    "colab": {
      "provenance": [],
      "authorship_tag": "ABX9TyNxMUysaVSwITDkufQN9GDa",
      "include_colab_link": true
    },
    "kernelspec": {
      "name": "python3",
      "display_name": "Python 3"
    },
    "language_info": {
      "name": "python"
    }
  },
  "cells": [
    {
      "cell_type": "markdown",
      "metadata": {
        "id": "view-in-github",
        "colab_type": "text"
      },
      "source": [
        "<a href=\"https://colab.research.google.com/github/wambui021/-teresiahKwambui-/blob/main/python_user_input.ipynb\" target=\"_parent\"><img src=\"https://colab.research.google.com/assets/colab-badge.svg\" alt=\"Open In Colab\"/></a>"
      ]
    },
    {
      "cell_type": "code",
      "execution_count": 2,
      "metadata": {
        "colab": {
          "base_uri": "https://localhost:8080/"
        },
        "id": "5aeh7Y0DnVk6",
        "outputId": "607724e3-b66c-42f1-cb40-51eca38ce61a"
      },
      "outputs": [
        {
          "output_type": "stream",
          "name": "stdout",
          "text": [
            "What is your name? Teresiah\n",
            "How old are you? 22\n",
            "Where are you located? Nairobi\n",
            "Hello Teresiah, you are 22 years old and live in Nairobi.\n"
          ]
        }
      ],
      "source": [
        "# user_input\n",
        "\n",
        "# Ask the user for their name, age, and location\n",
        "name = input(\"What is your name? \")\n",
        "age = input(\"How old are you? \")\n",
        "location = input(\"Where are you located? \")\n",
        "\n",
        "# Print out a personalized message\n",
        "print(f\"Hello {name}, you are {age} years old and live in {location}.\")\n"
      ]
    }
  ]
}